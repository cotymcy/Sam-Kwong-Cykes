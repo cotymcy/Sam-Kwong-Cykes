{
 "cells": [
  {
   "cell_type": "markdown",
   "id": "13871957",
   "metadata": {},
   "source": [
    "## Library"
   ]
  },
  {
   "cell_type": "code",
   "execution_count": 1,
   "id": "813b12b3",
   "metadata": {},
   "outputs": [],
   "source": [
    "import pandas as pd\n",
    "import numpy as np\n",
    "import datetime as dt\n",
    "import emoji\n",
    "import json\n",
    "import csv"
   ]
  },
  {
   "cell_type": "markdown",
   "id": "b191fa4f",
   "metadata": {},
   "source": [
    "message, from, created_time, comments.limit(0).summary(1), reactions.limit(0).summary(1), reactions.type(LIKE).limit(0).summary(1).as(like), reactions.type(LOVE).limit(0).summary(1).as(love), reactions.type(HAHA).limit(0).summary(1).as(haha), reactions.type(WOW).limit(0).summary(1).as(wow), reactions.type(SAD).limit(0).summary(1).as(sad), reactions.type(ANGRY).limit(0).summary(1).as(angry)"
   ]
  },
  {
   "cell_type": "code",
   "execution_count": 24,
   "id": "476463e8",
   "metadata": {},
   "outputs": [],
   "source": [
    "# # Drop not-using columns\n",
    "# not_using_col = [\"id\", \"parent_id\", \"level\", \"object_id\", \"query_status\", \"query_time\", \"query_type\",\n",
    "#                 \"paging.cursors.before\", \"paging.cursors.after\", \"paging.next\", \"reactions.summary.viewer_reaction\",\n",
    "#                 \"sad.summary.viewer_reaction\", \"angry.data\", \"angry.summary.viewer_reaction\", \"updated_time\", \"error.message\",\n",
    "#                 \"reactions.data\", \"id.1\", \"like.summary.total_count\", \"like.summary.viewer_reaction\", \"sad.data\",\n",
    "#                 \"error.type\", \"error.code\", \"error.fbtrace_id\", \"from.name\", \"from.id\", \"like.data\", \"object_key\", \n",
    "#                 \"object_type\", \"reactions.summary.total_count\", \"sad.summary.total_count\", \"angry.summary.total_count\"]\n",
    "# df.drop(columns = not_using_col, inplace=True)"
   ]
  },
  {
   "cell_type": "markdown",
   "id": "5442209e",
   "metadata": {},
   "source": [
    "## 1. Clean df"
   ]
  },
  {
   "cell_type": "code",
   "execution_count": 103,
   "id": "20eff644",
   "metadata": {},
   "outputs": [],
   "source": [
    "#*********************************\n",
    "Bank_name = 'HSBC'\n",
    "#*********************************\n",
    "\n",
    "Filename = f'FB_{Bank_name}_2022_v2.csv'\n",
    "New_Filename = f'FBClean_{Bank_name}_v2.csv'\n",
    "\n",
    "df = pd.read_csv(f'Collected_data/{Filename}', header=0)"
   ]
  },
  {
   "cell_type": "code",
   "execution_count": 104,
   "id": "ef62bcb8",
   "metadata": {},
   "outputs": [],
   "source": [
    "# Drop non-data and NaN messages\n",
    "drop_index = df[df.object_type != \"data\"].index\n",
    "df.drop(axis = 0, index = drop_index, inplace = True)\n",
    "\n",
    "drop_index = df[df.message.isna()].index\n",
    "df.drop(axis = 0, index = drop_index, inplace = True)\n",
    "\n",
    "# Categorization of reactions\n",
    "df['pos_reaction'] = df['reactions.summary.total_count'] - df['sad.summary.total_count'] - df['angry.summary.total_count']\n",
    "df['neg_reaction'] = df['sad.summary.total_count'] + df['angry.summary.total_count']\n",
    "\n",
    "df = df.rename(columns = {'shares.count' : 'shares', 'comments.summary.total_count' : 'comments'})"
   ]
  },
  {
   "cell_type": "code",
   "execution_count": 105,
   "id": "700aebfa",
   "metadata": {},
   "outputs": [
    {
     "data": {
      "text/plain": [
       "Index(['path', 'id', 'parent_id', 'level', 'object_id', 'object_type',\n",
       "       'object_key', 'query_status', 'query_time', 'query_type', 'message',\n",
       "       'created_time', 'updated_time', 'error.message', 'from.name', 'from.id',\n",
       "       'comments.data', 'comments.summary.order', 'comments',\n",
       "       'comments.summary.can_comment', 'reactions.data',\n",
       "       'reactions.summary.total_count', 'reactions.summary.viewer_reaction',\n",
       "       'like.data', 'like.summary.total_count', 'like.summary.viewer_reaction',\n",
       "       'love.data', 'love.summary.total_count', 'love.summary.viewer_reaction',\n",
       "       'haha.data', 'haha.summary.total_count', 'haha.summary.viewer_reaction',\n",
       "       'wow.data', 'wow.summary.total_count', 'wow.summary.viewer_reaction',\n",
       "       'sad.data', 'sad.summary.total_count', 'sad.summary.viewer_reaction',\n",
       "       'angry.data', 'angry.summary.total_count',\n",
       "       'angry.summary.viewer_reaction', 'id.1', 'summary.order',\n",
       "       'summary.total_count', 'summary.can_comment', 'comment_count',\n",
       "       'like_count', 'parent.created_time', 'parent.message',\n",
       "       'paging.cursors.before', 'paging.cursors.after', 'paging.next',\n",
       "       'paging.previous', 'shares', 'pos_reaction', 'neg_reaction'],\n",
       "      dtype='object')"
      ]
     },
     "execution_count": 105,
     "metadata": {},
     "output_type": "execute_result"
    }
   ],
   "source": [
    "df.columns"
   ]
  },
  {
   "cell_type": "code",
   "execution_count": 106,
   "id": "cfd5bac5",
   "metadata": {},
   "outputs": [],
   "source": [
    "# Replace NaN with zero\n",
    "df[\"shares\"] = df[\"shares\"].replace(np.nan,\"0\")\n",
    "df[\"comments\"] = df[\"comments\"].replace(np.nan,\"0\")\n",
    "df[\"pos_reaction\"] = df[\"pos_reaction\"].replace(np.nan,\"0\")\n",
    "df[\"neg_reaction\"] = df[\"neg_reaction\"].replace(np.nan,\"0\")\n",
    "\n",
    "# Change of column type to int\n",
    "df[\"shares\"] = df[\"shares\"].apply(lambda x: int(x))\n",
    "df[\"comments\"] = df[\"comments\"].apply(lambda x: int(x))\n",
    "df[\"pos_reaction\"] = df[\"pos_reaction\"].apply(lambda x: int(x))\n",
    "df[\"neg_reaction\"] = df[\"neg_reaction\"].apply(lambda x: int(x))"
   ]
  },
  {
   "cell_type": "code",
   "execution_count": 107,
   "id": "65232a33",
   "metadata": {},
   "outputs": [],
   "source": [
    "# Datetime\n",
    "df[\"created_time\"] = pd.to_datetime(df[\"created_time\"])\n",
    "df[\"date\"] = df[\"created_time\"].apply(lambda x: x.date())\n",
    "df[\"date\"] = pd.to_datetime(df[\"date\"])"
   ]
  },
  {
   "cell_type": "code",
   "execution_count": 108,
   "id": "f89a46cc",
   "metadata": {},
   "outputs": [],
   "source": [
    "# Add bank name\n",
    "df[\"bank\"] = Bank_name"
   ]
  },
  {
   "cell_type": "code",
   "execution_count": 109,
   "id": "6f663ac7",
   "metadata": {},
   "outputs": [],
   "source": [
    "df = df.reindex(columns = ['bank', 'date','message', 'pos_reaction', 'neg_reaction', 'shares', 'comments'])\n",
    "\n",
    "# Drop duplicate rows\n",
    "df.drop_duplicates(inplace=True)\n",
    "\n",
    "# Reset index\n",
    "df.reset_index(drop=True, inplace=True)"
   ]
  },
  {
   "cell_type": "code",
   "execution_count": 110,
   "id": "7c5918b1",
   "metadata": {},
   "outputs": [
    {
     "data": {
      "text/html": [
       "<div>\n",
       "<style scoped>\n",
       "    .dataframe tbody tr th:only-of-type {\n",
       "        vertical-align: middle;\n",
       "    }\n",
       "\n",
       "    .dataframe tbody tr th {\n",
       "        vertical-align: top;\n",
       "    }\n",
       "\n",
       "    .dataframe thead th {\n",
       "        text-align: right;\n",
       "    }\n",
       "</style>\n",
       "<table border=\"1\" class=\"dataframe\">\n",
       "  <thead>\n",
       "    <tr style=\"text-align: right;\">\n",
       "      <th></th>\n",
       "      <th>bank</th>\n",
       "      <th>date</th>\n",
       "      <th>message</th>\n",
       "      <th>pos_reaction</th>\n",
       "      <th>neg_reaction</th>\n",
       "      <th>shares</th>\n",
       "      <th>comments</th>\n",
       "    </tr>\n",
       "  </thead>\n",
       "  <tbody>\n",
       "    <tr>\n",
       "      <th>0</th>\n",
       "      <td>HSBC</td>\n",
       "      <td>2022-09-30</td>\n",
       "      <td>【滙豐 Mobile Banking X 數碼科技 X 音樂🎵】  邊個話Banking 同...</td>\n",
       "      <td>29</td>\n",
       "      <td>0</td>\n",
       "      <td>0</td>\n",
       "      <td>4</td>\n",
       "    </tr>\n",
       "    <tr>\n",
       "      <th>1</th>\n",
       "      <td>HSBC</td>\n",
       "      <td>2022-09-30</td>\n",
       "      <td>【免佣免平台費 嬴在投資起跑線💨｜滙豐「調教少年股神」】 \u000b",
       "開Sem後又要chur grou...</td>\n",
       "      <td>15</td>\n",
       "      <td>1</td>\n",
       "      <td>0</td>\n",
       "      <td>2</td>\n",
       "    </tr>\n",
       "    <tr>\n",
       "      <th>2</th>\n",
       "      <td>HSBC</td>\n",
       "      <td>2022-09-29</td>\n",
       "      <td>【究竟乜嘢係元宇宙？web 3.0? DAO? VR?】 這些詞語和現實世界嘅我如何扯上關係...</td>\n",
       "      <td>13</td>\n",
       "      <td>1</td>\n",
       "      <td>0</td>\n",
       "      <td>1</td>\n",
       "    </tr>\n",
       "    <tr>\n",
       "      <th>3</th>\n",
       "      <td>HSBC</td>\n",
       "      <td>2022-09-29</td>\n",
       "      <td>【未響警號🚨就諗住遲啲先？無論身體健康定財政健康都唔好再拖喇！一齊為咗財政健康，戰勝拖延症！...</td>\n",
       "      <td>35</td>\n",
       "      <td>3</td>\n",
       "      <td>1</td>\n",
       "      <td>1</td>\n",
       "    </tr>\n",
       "    <tr>\n",
       "      <th>4</th>\n",
       "      <td>HSBC</td>\n",
       "      <td>2022-09-28</td>\n",
       "      <td>#睇片贏獎品【國泰航空／滙豐香港國際七人欖球賽有獎問答遊戲，贏取現場觀賽機會📣】 萬眾曯目嘅...</td>\n",
       "      <td>801</td>\n",
       "      <td>1</td>\n",
       "      <td>300</td>\n",
       "      <td>846</td>\n",
       "    </tr>\n",
       "  </tbody>\n",
       "</table>\n",
       "</div>"
      ],
      "text/plain": [
       "   bank       date                                            message  \\\n",
       "0  HSBC 2022-09-30  【滙豐 Mobile Banking X 數碼科技 X 音樂🎵】  邊個話Banking 同...   \n",
       "1  HSBC 2022-09-30  【免佣免平台費 嬴在投資起跑線💨｜滙豐「調教少年股神」】 \n",
       "開Sem後又要chur grou...   \n",
       "2  HSBC 2022-09-29  【究竟乜嘢係元宇宙？web 3.0? DAO? VR?】 這些詞語和現實世界嘅我如何扯上關係...   \n",
       "3  HSBC 2022-09-29  【未響警號🚨就諗住遲啲先？無論身體健康定財政健康都唔好再拖喇！一齊為咗財政健康，戰勝拖延症！...   \n",
       "4  HSBC 2022-09-28  #睇片贏獎品【國泰航空／滙豐香港國際七人欖球賽有獎問答遊戲，贏取現場觀賽機會📣】 萬眾曯目嘅...   \n",
       "\n",
       "   pos_reaction  neg_reaction  shares  comments  \n",
       "0            29             0       0         4  \n",
       "1            15             1       0         2  \n",
       "2            13             1       0         1  \n",
       "3            35             3       1         1  \n",
       "4           801             1     300       846  "
      ]
     },
     "execution_count": 110,
     "metadata": {},
     "output_type": "execute_result"
    }
   ],
   "source": [
    "df.head(5)"
   ]
  },
  {
   "cell_type": "code",
   "execution_count": 111,
   "id": "a7650fe4",
   "metadata": {},
   "outputs": [
    {
     "data": {
      "text/html": [
       "<div>\n",
       "<style scoped>\n",
       "    .dataframe tbody tr th:only-of-type {\n",
       "        vertical-align: middle;\n",
       "    }\n",
       "\n",
       "    .dataframe tbody tr th {\n",
       "        vertical-align: top;\n",
       "    }\n",
       "\n",
       "    .dataframe thead th {\n",
       "        text-align: right;\n",
       "    }\n",
       "</style>\n",
       "<table border=\"1\" class=\"dataframe\">\n",
       "  <thead>\n",
       "    <tr style=\"text-align: right;\">\n",
       "      <th></th>\n",
       "      <th>bank</th>\n",
       "      <th>date</th>\n",
       "      <th>message</th>\n",
       "      <th>pos_reaction</th>\n",
       "      <th>neg_reaction</th>\n",
       "      <th>shares</th>\n",
       "      <th>comments</th>\n",
       "    </tr>\n",
       "  </thead>\n",
       "  <tbody>\n",
       "  </tbody>\n",
       "</table>\n",
       "</div>"
      ],
      "text/plain": [
       "Empty DataFrame\n",
       "Columns: [bank, date, message, pos_reaction, neg_reaction, shares, comments]\n",
       "Index: []"
      ]
     },
     "execution_count": 111,
     "metadata": {},
     "output_type": "execute_result"
    }
   ],
   "source": [
    "# Double-checking\n",
    "df[df[\"neg_reaction\"] < 0]"
   ]
  },
  {
   "cell_type": "code",
   "execution_count": 112,
   "id": "192791eb",
   "metadata": {},
   "outputs": [
    {
     "data": {
      "text/html": [
       "<div>\n",
       "<style scoped>\n",
       "    .dataframe tbody tr th:only-of-type {\n",
       "        vertical-align: middle;\n",
       "    }\n",
       "\n",
       "    .dataframe tbody tr th {\n",
       "        vertical-align: top;\n",
       "    }\n",
       "\n",
       "    .dataframe thead th {\n",
       "        text-align: right;\n",
       "    }\n",
       "</style>\n",
       "<table border=\"1\" class=\"dataframe\">\n",
       "  <thead>\n",
       "    <tr style=\"text-align: right;\">\n",
       "      <th></th>\n",
       "      <th>bank</th>\n",
       "      <th>date</th>\n",
       "      <th>message</th>\n",
       "      <th>pos_reaction</th>\n",
       "      <th>neg_reaction</th>\n",
       "      <th>shares</th>\n",
       "      <th>comments</th>\n",
       "    </tr>\n",
       "  </thead>\n",
       "  <tbody>\n",
       "  </tbody>\n",
       "</table>\n",
       "</div>"
      ],
      "text/plain": [
       "Empty DataFrame\n",
       "Columns: [bank, date, message, pos_reaction, neg_reaction, shares, comments]\n",
       "Index: []"
      ]
     },
     "execution_count": 112,
     "metadata": {},
     "output_type": "execute_result"
    }
   ],
   "source": [
    "# Double-checking\n",
    "df[df[\"pos_reaction\"] < 0]"
   ]
  },
  {
   "cell_type": "code",
   "execution_count": 113,
   "id": "ff7bcebe",
   "metadata": {},
   "outputs": [
    {
     "name": "stdout",
     "output_type": "stream",
     "text": [
      "<class 'pandas.core.frame.DataFrame'>\n",
      "RangeIndex: 210 entries, 0 to 209\n",
      "Data columns (total 7 columns):\n",
      " #   Column        Non-Null Count  Dtype         \n",
      "---  ------        --------------  -----         \n",
      " 0   bank          210 non-null    object        \n",
      " 1   date          210 non-null    datetime64[ns]\n",
      " 2   message       210 non-null    object        \n",
      " 3   pos_reaction  210 non-null    int64         \n",
      " 4   neg_reaction  210 non-null    int64         \n",
      " 5   shares        210 non-null    int64         \n",
      " 6   comments      210 non-null    int64         \n",
      "dtypes: datetime64[ns](1), int64(4), object(2)\n",
      "memory usage: 11.6+ KB\n"
     ]
    }
   ],
   "source": [
    "df.info()"
   ]
  },
  {
   "cell_type": "code",
   "execution_count": 114,
   "id": "1376b338",
   "metadata": {},
   "outputs": [],
   "source": [
    "df.to_csv(f'Collected_data/{New_Filename}', encoding='utf-8-sig', index=False)"
   ]
  },
  {
   "cell_type": "markdown",
   "id": "4c105bd8",
   "metadata": {},
   "source": [
    "## 2. Concat df"
   ]
  },
  {
   "cell_type": "code",
   "execution_count": 115,
   "id": "00b9d76b",
   "metadata": {},
   "outputs": [],
   "source": [
    "df_1 = pd.read_csv('Collected_data/FBClean_ZA_v2.csv', header=0)\n",
    "df_2 = pd.read_csv('Collected_data/FBClean_SC_v2.csv', header=0)\n",
    "df_3 = pd.read_csv('Collected_data/FBClean_ICBC_v2.csv', header=0)\n",
    "df_4 = pd.read_csv('Collected_data/FBClean_HSBC_v2.csv', header=0)\n",
    "df_5 = pd.read_csv('Collected_data/FBClean_DBS_v2.csv', header=0)\n",
    "df_6 = pd.read_csv('Collected_data/FBClean_BEA_v2.csv', header=0)"
   ]
  },
  {
   "cell_type": "code",
   "execution_count": 116,
   "id": "8ba9c4e8",
   "metadata": {},
   "outputs": [],
   "source": [
    "# Concat all df\n",
    "frames = [df_1, df_2, df_3, df_4, df_5, df_6]  \n",
    "df_master = pd.concat(frames, ignore_index=True)"
   ]
  },
  {
   "cell_type": "code",
   "execution_count": 117,
   "id": "8d38ac46",
   "metadata": {},
   "outputs": [
    {
     "data": {
      "text/html": [
       "<div>\n",
       "<style scoped>\n",
       "    .dataframe tbody tr th:only-of-type {\n",
       "        vertical-align: middle;\n",
       "    }\n",
       "\n",
       "    .dataframe tbody tr th {\n",
       "        vertical-align: top;\n",
       "    }\n",
       "\n",
       "    .dataframe thead th {\n",
       "        text-align: right;\n",
       "    }\n",
       "</style>\n",
       "<table border=\"1\" class=\"dataframe\">\n",
       "  <thead>\n",
       "    <tr style=\"text-align: right;\">\n",
       "      <th></th>\n",
       "      <th>bank</th>\n",
       "      <th>date</th>\n",
       "      <th>message</th>\n",
       "      <th>pos_reaction</th>\n",
       "      <th>neg_reaction</th>\n",
       "      <th>shares</th>\n",
       "      <th>comments</th>\n",
       "    </tr>\n",
       "  </thead>\n",
       "  <tbody>\n",
       "    <tr>\n",
       "      <th>0</th>\n",
       "      <td>ZA</td>\n",
       "      <td>2022-09-26</td>\n",
       "      <td>【突發：中巨獎有秘訣？有人用 $60 就贏到 $1,000,000?!】  呢個人就係新一位...</td>\n",
       "      <td>23</td>\n",
       "      <td>5</td>\n",
       "      <td>0</td>\n",
       "      <td>18</td>\n",
       "    </tr>\n",
       "    <tr>\n",
       "      <th>1</th>\n",
       "      <td>ZA</td>\n",
       "      <td>2022-09-23</td>\n",
       "      <td>【又食又拎基本啦！🍽 食勻港九再拎足 11% 回贈！😋】   TGIF! 常識題：放假食乜好...</td>\n",
       "      <td>20</td>\n",
       "      <td>2</td>\n",
       "      <td>4</td>\n",
       "      <td>3</td>\n",
       "    </tr>\n",
       "    <tr>\n",
       "      <th>2</th>\n",
       "      <td>ZA</td>\n",
       "      <td>2022-09-17</td>\n",
       "      <td>【SHAKE SHACK x ZA Bank 賞你免費漢堡】😋  過咗中秋，和煦嘅陽光下終於...</td>\n",
       "      <td>1102</td>\n",
       "      <td>0</td>\n",
       "      <td>618</td>\n",
       "      <td>1080</td>\n",
       "    </tr>\n",
       "    <tr>\n",
       "      <th>3</th>\n",
       "      <td>ZA</td>\n",
       "      <td>2022-09-16</td>\n",
       "      <td>【百萬勁抽限定！L 先生連環幸運事件】  23歲就有一百萬係咩概念？小編答你唔到，不過可以幫...</td>\n",
       "      <td>33</td>\n",
       "      <td>7</td>\n",
       "      <td>0</td>\n",
       "      <td>22</td>\n",
       "    </tr>\n",
       "    <tr>\n",
       "      <th>4</th>\n",
       "      <td>ZA</td>\n",
       "      <td>2022-09-10</td>\n",
       "      <td>【究竟邊個中咗一百萬 🤑⁉️】  數字有分先後！今期「百萬勁抽」獨贏號碼喺… 🥁 🥁 🥁  ...</td>\n",
       "      <td>51</td>\n",
       "      <td>8</td>\n",
       "      <td>3</td>\n",
       "      <td>36</td>\n",
       "    </tr>\n",
       "    <tr>\n",
       "      <th>...</th>\n",
       "      <td>...</td>\n",
       "      <td>...</td>\n",
       "      <td>...</td>\n",
       "      <td>...</td>\n",
       "      <td>...</td>\n",
       "      <td>...</td>\n",
       "      <td>...</td>\n",
       "    </tr>\n",
       "    <tr>\n",
       "      <th>718</th>\n",
       "      <td>BEA</td>\n",
       "      <td>2022-04-06</td>\n",
       "      <td>【第2季投資策略🎯】  上季資產市場一如舊年年底所料出現大幅波動。上季同大家分享咗3大投資主...</td>\n",
       "      <td>10</td>\n",
       "      <td>0</td>\n",
       "      <td>1</td>\n",
       "      <td>1</td>\n",
       "    </tr>\n",
       "    <tr>\n",
       "      <th>719</th>\n",
       "      <td>BEA</td>\n",
       "      <td>2022-04-04</td>\n",
       "      <td>【BEA Mall每月大抽獎🎁 春日簽賬贏取HK$500電子購物禮券】  踏入春季天氣濕笠笠...</td>\n",
       "      <td>292</td>\n",
       "      <td>3</td>\n",
       "      <td>6</td>\n",
       "      <td>3</td>\n",
       "    </tr>\n",
       "    <tr>\n",
       "      <th>720</th>\n",
       "      <td>BEA</td>\n",
       "      <td>2022-04-01</td>\n",
       "      <td>【電子錢包消費🌟享高達HK$80獎賞】   呢排抗疫時期，做咩都要打醒十二分精神！出街搭車同...</td>\n",
       "      <td>122</td>\n",
       "      <td>2</td>\n",
       "      <td>9</td>\n",
       "      <td>5</td>\n",
       "    </tr>\n",
       "    <tr>\n",
       "      <th>721</th>\n",
       "      <td>BEA</td>\n",
       "      <td>2022-04-01</td>\n",
       "      <td>【BEA Flash 開戶一觸即發】  劍擊講求靈活，反應要敏捷，動作要快先可以一擊即中。 ...</td>\n",
       "      <td>298</td>\n",
       "      <td>3</td>\n",
       "      <td>1</td>\n",
       "      <td>16</td>\n",
       "    </tr>\n",
       "    <tr>\n",
       "      <th>722</th>\n",
       "      <td>BEA</td>\n",
       "      <td>2022-04-01</td>\n",
       "      <td>【東亞與你 疫境同行】  東亞銀行慈善基金透過救世軍同聖雅各福群會，向社區捐贈抗疫物資包括2...</td>\n",
       "      <td>72</td>\n",
       "      <td>0</td>\n",
       "      <td>5</td>\n",
       "      <td>0</td>\n",
       "    </tr>\n",
       "  </tbody>\n",
       "</table>\n",
       "<p>723 rows × 7 columns</p>\n",
       "</div>"
      ],
      "text/plain": [
       "    bank        date                                            message  \\\n",
       "0     ZA  2022-09-26  【突發：中巨獎有秘訣？有人用 $60 就贏到 $1,000,000?!】  呢個人就係新一位...   \n",
       "1     ZA  2022-09-23  【又食又拎基本啦！🍽 食勻港九再拎足 11% 回贈！😋】   TGIF! 常識題：放假食乜好...   \n",
       "2     ZA  2022-09-17  【SHAKE SHACK x ZA Bank 賞你免費漢堡】😋  過咗中秋，和煦嘅陽光下終於...   \n",
       "3     ZA  2022-09-16  【百萬勁抽限定！L 先生連環幸運事件】  23歲就有一百萬係咩概念？小編答你唔到，不過可以幫...   \n",
       "4     ZA  2022-09-10  【究竟邊個中咗一百萬 🤑⁉️】  數字有分先後！今期「百萬勁抽」獨贏號碼喺… 🥁 🥁 🥁  ...   \n",
       "..   ...         ...                                                ...   \n",
       "718  BEA  2022-04-06  【第2季投資策略🎯】  上季資產市場一如舊年年底所料出現大幅波動。上季同大家分享咗3大投資主...   \n",
       "719  BEA  2022-04-04  【BEA Mall每月大抽獎🎁 春日簽賬贏取HK$500電子購物禮券】  踏入春季天氣濕笠笠...   \n",
       "720  BEA  2022-04-01  【電子錢包消費🌟享高達HK$80獎賞】   呢排抗疫時期，做咩都要打醒十二分精神！出街搭車同...   \n",
       "721  BEA  2022-04-01  【BEA Flash 開戶一觸即發】  劍擊講求靈活，反應要敏捷，動作要快先可以一擊即中。 ...   \n",
       "722  BEA  2022-04-01  【東亞與你 疫境同行】  東亞銀行慈善基金透過救世軍同聖雅各福群會，向社區捐贈抗疫物資包括2...   \n",
       "\n",
       "     pos_reaction  neg_reaction  shares  comments  \n",
       "0              23             5       0        18  \n",
       "1              20             2       4         3  \n",
       "2            1102             0     618      1080  \n",
       "3              33             7       0        22  \n",
       "4              51             8       3        36  \n",
       "..            ...           ...     ...       ...  \n",
       "718            10             0       1         1  \n",
       "719           292             3       6         3  \n",
       "720           122             2       9         5  \n",
       "721           298             3       1        16  \n",
       "722            72             0       5         0  \n",
       "\n",
       "[723 rows x 7 columns]"
      ]
     },
     "metadata": {},
     "output_type": "display_data"
    }
   ],
   "source": [
    "display(df_master)"
   ]
  },
  {
   "cell_type": "code",
   "execution_count": 118,
   "id": "72718d74",
   "metadata": {},
   "outputs": [
    {
     "name": "stdout",
     "output_type": "stream",
     "text": [
      "<class 'pandas.core.frame.DataFrame'>\n",
      "RangeIndex: 723 entries, 0 to 722\n",
      "Data columns (total 7 columns):\n",
      " #   Column        Non-Null Count  Dtype \n",
      "---  ------        --------------  ----- \n",
      " 0   bank          723 non-null    object\n",
      " 1   date          723 non-null    object\n",
      " 2   message       723 non-null    object\n",
      " 3   pos_reaction  723 non-null    int64 \n",
      " 4   neg_reaction  723 non-null    int64 \n",
      " 5   shares        723 non-null    int64 \n",
      " 6   comments      723 non-null    int64 \n",
      "dtypes: int64(4), object(3)\n",
      "memory usage: 39.7+ KB\n"
     ]
    }
   ],
   "source": [
    "df_master.info()"
   ]
  },
  {
   "cell_type": "code",
   "execution_count": 120,
   "id": "eb7b8cfe",
   "metadata": {},
   "outputs": [],
   "source": [
    "# df_master.to_csv('Collected_data/FB_Banks_MasterData_v2.csv', encoding='utf-8-sig', index=False)"
   ]
  },
  {
   "cell_type": "code",
   "execution_count": null,
   "id": "055f4eab",
   "metadata": {},
   "outputs": [],
   "source": []
  },
  {
   "cell_type": "code",
   "execution_count": null,
   "id": "d7bfcf92",
   "metadata": {},
   "outputs": [],
   "source": []
  },
  {
   "cell_type": "code",
   "execution_count": null,
   "id": "bde6aac9",
   "metadata": {},
   "outputs": [],
   "source": []
  },
  {
   "cell_type": "code",
   "execution_count": null,
   "id": "d4d83109",
   "metadata": {},
   "outputs": [],
   "source": []
  },
  {
   "cell_type": "code",
   "execution_count": null,
   "id": "ad419ab4",
   "metadata": {},
   "outputs": [],
   "source": []
  },
  {
   "cell_type": "code",
   "execution_count": null,
   "id": "4a96337d",
   "metadata": {},
   "outputs": [],
   "source": []
  },
  {
   "cell_type": "markdown",
   "id": "707264a7",
   "metadata": {},
   "source": [
    "## End"
   ]
  }
 ],
 "metadata": {
  "kernelspec": {
   "display_name": "Python 3 (ipykernel)",
   "language": "python",
   "name": "python3"
  },
  "language_info": {
   "codemirror_mode": {
    "name": "ipython",
    "version": 3
   },
   "file_extension": ".py",
   "mimetype": "text/x-python",
   "name": "python",
   "nbconvert_exporter": "python",
   "pygments_lexer": "ipython3",
   "version": "3.9.7"
  },
  "toc": {
   "base_numbering": 1,
   "nav_menu": {},
   "number_sections": false,
   "sideBar": true,
   "skip_h1_title": false,
   "title_cell": "Table of Contents",
   "title_sidebar": "Contents",
   "toc_cell": false,
   "toc_position": {
    "height": "calc(100% - 180px)",
    "left": "10px",
    "top": "150px",
    "width": "165px"
   },
   "toc_section_display": true,
   "toc_window_display": true
  },
  "varInspector": {
   "cols": {
    "lenName": 16,
    "lenType": 16,
    "lenVar": 40
   },
   "kernels_config": {
    "python": {
     "delete_cmd_postfix": "",
     "delete_cmd_prefix": "del ",
     "library": "var_list.py",
     "varRefreshCmd": "print(var_dic_list())"
    },
    "r": {
     "delete_cmd_postfix": ") ",
     "delete_cmd_prefix": "rm(",
     "library": "var_list.r",
     "varRefreshCmd": "cat(var_dic_list()) "
    }
   },
   "types_to_exclude": [
    "module",
    "function",
    "builtin_function_or_method",
    "instance",
    "_Feature"
   ],
   "window_display": false
  }
 },
 "nbformat": 4,
 "nbformat_minor": 5
}
